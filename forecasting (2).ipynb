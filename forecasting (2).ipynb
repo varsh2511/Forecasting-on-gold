{
  "cells": [
    {
      "cell_type": "markdown",
      "metadata": {
        "id": "nfAVgXLgrBrU"
      },
      "source": [
        " # **Time Series Forecasting **\n",
        "\n",
        "Time series analysis comprises methods for analyzing time series data in order to extract meaningful statistics and other characteristics of the data. Time series forecasting is the use of a model to predict future values based on previously observed values.\n",
        "\n",
        "Time series are widely used for non-stationary data, like economic, weather, stock price, and retail sales in this post. \n",
        "**I am going to  predict Gold price with time series forecasting using RNN method**\n",
        "\n",
        " Time Series Forecasting using CNN-LSTM\n"
      ]
    },
    {
      "cell_type": "code",
      "execution_count": null,
      "metadata": {
        "id": "nQOebmIKrBrf"
      },
      "outputs": [],
      "source": [
        "import numpy as np # linear algebra\n",
        "import pandas as pd # data processing, CSV file I/O (e.g. pd.read_csv)\n",
        "import matplotlib.pyplot as plt\n",
        "from keras.models import Sequential\n",
        "import matplotlib.patches as mpatches\n",
        "from keras.layers import Dense\n",
        "from keras.layers import Dropout\n",
        "from keras.layers import LSTM\n",
        "from sklearn.preprocessing import MinMaxScaler\n",
        "from sklearn.metrics import mean_squared_error\n",
        "\n",
        "\n",
        "import os\n",
        "\n",
        "\n",
        "# Any results you write to the current directory are saved as output."
      ]
    },
    {
      "cell_type": "code",
      "execution_count": null,
      "metadata": {
        "id": "bH9jSRplrBrh"
      },
      "outputs": [],
      "source": [
        "data = pd.read_csv('/content/Gold_data.csv')"
      ]
    },
    {
      "cell_type": "code",
      "execution_count": null,
      "metadata": {
        "id": "8tK7rGAkrBri"
      },
      "outputs": [],
      "source": [
        "data.columns"
      ]
    },
    {
      "cell_type": "code",
      "execution_count": null,
      "metadata": {
        "id": "ROhPoakMrBrj"
      },
      "outputs": [],
      "source": [
        "data.head()"
      ]
    },
    {
      "cell_type": "code",
      "execution_count": null,
      "metadata": {
        "id": "bycIexH9w-N1"
      },
      "outputs": [],
      "source": [
        "\n",
        "data.tail()"
      ]
    },
    {
      "cell_type": "code",
      "execution_count": null,
      "metadata": {
        "id": "99kBPUlLrBrj"
      },
      "outputs": [],
      "source": [
        "data['date'] = pd.to_datetime(data['date'])\n",
        "data.set_index('date', inplace= True)\n",
        "data =data.resample('D').mean()"
      ]
    },
    {
      "cell_type": "code",
      "execution_count": null,
      "metadata": {
        "id": "vgc4N734rBrl"
      },
      "outputs": [],
      "source": [
        "data = data[['price' ]]"
      ]
    },
    {
      "cell_type": "code",
      "execution_count": null,
      "metadata": {
        "id": "Qy3qZD1Fe7r3"
      },
      "outputs": [],
      "source": []
    },
    {
      "cell_type": "code",
      "execution_count": null,
      "metadata": {
        "id": "rsiHtKLQrBrm"
      },
      "outputs": [],
      "source": [
        "data.info()"
      ]
    },
    {
      "cell_type": "code",
      "execution_count": null,
      "metadata": {
        "id": "qOVRdlRLrBro"
      },
      "outputs": [],
      "source": [
        "from scipy.interpolate import interp1d\n"
      ]
    },
    {
      "cell_type": "code",
      "execution_count": null,
      "metadata": {
        "id": "sfLyeH59rBrp"
      },
      "outputs": [],
      "source": [
        "data['price'] = data['price'].interpolate()# we will fill the null row"
      ]
    },
    {
      "cell_type": "code",
      "execution_count": null,
      "metadata": {
        "id": "4eLfyTGjrBrq"
      },
      "outputs": [],
      "source": [
        "data.info()"
      ]
    },
    {
      "cell_type": "code",
      "execution_count": null,
      "metadata": {
        "id": "C511qzzKrBrq"
      },
      "outputs": [],
      "source": [
        "data.head()"
      ]
    },
    {
      "cell_type": "code",
      "execution_count": null,
      "metadata": {
        "id": "rQiqjVHe9yuN"
      },
      "outputs": [],
      "source": [
        "len(data)"
      ]
    },
    {
      "cell_type": "code",
      "execution_count": null,
      "metadata": {
        "id": "nNRaqAwdrBrr"
      },
      "outputs": [],
      "source": [
        "df = data.copy()"
      ]
    },
    {
      "cell_type": "code",
      "execution_count": null,
      "metadata": {
        "id": "b3FYS6E_rBrs"
      },
      "outputs": [],
      "source": [
        "plt.figure(figsize=(20,8))\n",
        "plt.plot(data)\n",
        "plt.title('Time Series')\n",
        "plt.xlabel('Date')\n",
        "plt.ylabel('temperature')\n",
        "plt.show()"
      ]
    },
    {
      "cell_type": "markdown",
      "metadata": {
        "id": "UfdHEe6vrBrt"
      },
      "source": [
        "# Time Series Forecast using LSTM\n",
        "\n",
        "Long Short Term Memory networks – usually just called “LSTMs” – are a special kind of RNN, capable of learning long-term dependencies. They were introduced by Hochreiter & Schmidhuber (1997), and were refined and popularized by many people in following work.1 They work tremendously well on a large variety of problems, and are now widely used.\n",
        "\n",
        "LSTMs are explicitly designed to avoid the long-term dependency problem. Remembering information for long periods of time is practically their default behavior, not something they struggle to learn!\n",
        "\n",
        "All recurrent neural networks have the form of a chain of repeating modules of neural network. In standard RNNs, this repeating module will have a very simple structure, such as a single tanh layer.\n"
      ]
    },
    {
      "cell_type": "code",
      "execution_count": null,
      "metadata": {
        "id": "NXtLVih5rBru"
      },
      "outputs": [],
      "source": [
        "data=data.values\n",
        "data = data.astype('float32')"
      ]
    },
    {
      "cell_type": "code",
      "execution_count": null,
      "metadata": {
        "id": "Jw0fEtTkrBru"
      },
      "outputs": [],
      "source": [
        "scaler= MinMaxScaler(feature_range=(-1,1))\n",
        "sc = scaler.fit_transform(data)"
      ]
    },
    {
      "cell_type": "code",
      "execution_count": null,
      "metadata": {
        "id": "RS150PTArBrv"
      },
      "outputs": [],
      "source": [
        "sc "
      ]
    },
    {
      "cell_type": "code",
      "source": [
        "len(sc)                                                          "
      ],
      "metadata": {
        "id": "SuHNj2W_yOMr"
      },
      "execution_count": null,
      "outputs": []
    },
    {
      "cell_type": "code",
      "execution_count": null,
      "metadata": {
        "id": "dwevLDWoCeky"
      },
      "outputs": [],
      "source": [
        "len(df)"
      ]
    },
    {
      "cell_type": "code",
      "execution_count": null,
      "metadata": {
        "id": "Dao1ot4hrBrw"
      },
      "outputs": [],
      "source": [
        "timestep = 50\n",
        "\n",
        "X= []\n",
        "Y=[]\n",
        "\n",
        "\n",
        "for i in range(len(sc)- (timestep)):\n",
        "    X.append(sc[i:i+timestep])\n",
        "    Y.append(sc[i+timestep])\n",
        "\n",
        "\n",
        "X=np.asanyarray(X)\n",
        "Y=np.asanyarray(Y)\n",
        "\n",
        "\n",
        "k = 1950\n",
        "Xtrain = X[:k,:,:]\n",
        "Xtest = X[k:,:,:]    \n",
        "Ytrain = Y[:k]    \n",
        "Ytest= Y[k:]                                            "
      ]
    },
    {
      "cell_type": "code",
      "source": [],
      "metadata": {
        "id": "QbMFBQpW7WTc"
      },
      "execution_count": null,
      "outputs": []
    },
    {
      "cell_type": "code",
      "execution_count": null,
      "metadata": {
        "id": "TpTUXJc1rBrw"
      },
      "outputs": [],
      "source": [
        "print(Xtrain.shape)\n",
        "print(Xtest.shape)"
      ]
    },
    {
      "cell_type": "code",
      "execution_count": null,
      "metadata": {
        "id": "ZC6kOO6xu76z"
      },
      "outputs": [],
      "source": [
        "print(Ytrain.shape)\n",
        "print(Ytest.shape)"
      ]
    },
    {
      "cell_type": "code",
      "execution_count": null,
      "metadata": {
        "id": "Qm-rp28uIKHM"
      },
      "outputs": [],
      "source": [
        "Xtrain"
      ]
    },
    {
      "cell_type": "code",
      "execution_count": null,
      "metadata": {
        "id": "vTNegylIISqy"
      },
      "outputs": [],
      "source": [
        "Ytrain"
      ]
    },
    {
      "cell_type": "code",
      "execution_count": null,
      "metadata": {
        "id": "9Rek1TkrICRQ"
      },
      "outputs": [],
      "source": [
        "print(Ytrain.shape)\n",
        "print(Ytest.shape)"
      ]
    },
    {
      "cell_type": "markdown",
      "metadata": {
        "id": "950_zznirBry"
      },
      "source": [
        " # LSTM Model"
      ]
    },
    {
      "cell_type": "code",
      "execution_count": null,
      "metadata": {
        "id": "y3_ugLwPv01Y"
      },
      "outputs": [],
      "source": [
        "from tensorflow.keras.layers import LSTM, Dense, Dropout, BatchNormalization\n",
        "from tensorflow.keras.models import Sequential"
      ]
    },
    {
      "cell_type": "code",
      "execution_count": null,
      "metadata": {
        "id": "L6BKxPfBrBrz"
      },
      "outputs": [],
      "source": [
        "model = Sequential()\n",
        "\n",
        "model.add(LSTM(32,activation = 'relu', input_shape= (50,1), return_sequences=True))\n",
        "model.add(LSTM(32, activation='relu', return_sequences=True))\n",
        "model.add(LSTM(32, activation='sigmoid', return_sequences=False))\n",
        "model.add(Dense(1))\n",
        "model.compile(optimizer='adam', loss='mse')"
      ]
    },
    {
      "cell_type": "code",
      "execution_count": null,
      "metadata": {
        "id": "gern8HxqrBrz"
      },
      "outputs": [],
      "source": [
        "model.summary()"
      ]
    },
    {
      "cell_type": "code",
      "execution_count": null,
      "metadata": {
        "colab": {
          "base_uri": "https://localhost:8080/"
        },
        "id": "_0BVVUeArBrz",
        "outputId": "8a7643b6-fad8-48a4-c181-715e0886ae79"
      },
      "outputs": [
        {
          "output_type": "stream",
          "name": "stdout",
          "text": [
            "Epoch 1/300\n",
            "60/60 [==============================] - 7s 59ms/step - loss: 0.1566\n",
            "Epoch 2/300\n",
            "60/60 [==============================] - 4s 60ms/step - loss: 0.0202\n",
            "Epoch 3/300\n",
            "60/60 [==============================] - 7s 112ms/step - loss: 0.0185\n",
            "Epoch 4/300\n",
            "60/60 [==============================] - 5s 83ms/step - loss: 0.0184\n",
            "Epoch 5/300\n",
            "60/60 [==============================] - 4s 60ms/step - loss: 0.0179\n",
            "Epoch 6/300\n",
            "60/60 [==============================] - 4s 59ms/step - loss: 0.0176\n",
            "Epoch 7/300\n",
            "60/60 [==============================] - 3s 58ms/step - loss: 0.0175\n",
            "Epoch 8/300\n",
            "60/60 [==============================] - 4s 59ms/step - loss: 0.0173\n",
            "Epoch 9/300\n",
            "60/60 [==============================] - 4s 59ms/step - loss: 0.0170\n",
            "Epoch 10/300\n",
            "60/60 [==============================] - 4s 59ms/step - loss: 0.0169\n",
            "Epoch 11/300\n",
            "60/60 [==============================] - 4s 59ms/step - loss: 0.0152\n",
            "Epoch 12/300\n",
            "60/60 [==============================] - 4s 60ms/step - loss: 0.0170\n",
            "Epoch 13/300\n",
            "60/60 [==============================] - 4s 70ms/step - loss: 0.0163\n",
            "Epoch 14/300\n",
            "60/60 [==============================] - 4s 59ms/step - loss: 0.0143\n",
            "Epoch 15/300\n",
            "60/60 [==============================] - 3s 58ms/step - loss: 0.0128\n",
            "Epoch 16/300\n",
            "60/60 [==============================] - 3s 58ms/step - loss: 0.0104\n",
            "Epoch 17/300\n",
            "60/60 [==============================] - 4s 59ms/step - loss: 0.0088\n",
            "Epoch 18/300\n",
            "60/60 [==============================] - 3s 58ms/step - loss: 0.0076\n",
            "Epoch 19/300\n",
            "60/60 [==============================] - 5s 90ms/step - loss: 0.0075\n",
            "Epoch 20/300\n",
            "60/60 [==============================] - 6s 106ms/step - loss: 0.0070\n",
            "Epoch 21/300\n",
            "60/60 [==============================] - 4s 66ms/step - loss: 0.0072\n",
            "Epoch 22/300\n",
            "60/60 [==============================] - 3s 58ms/step - loss: 0.0068\n",
            "Epoch 23/300\n",
            "60/60 [==============================] - 4s 58ms/step - loss: 0.0069\n",
            "Epoch 24/300\n",
            "60/60 [==============================] - 3s 58ms/step - loss: 0.0071\n",
            "Epoch 25/300\n",
            "60/60 [==============================] - 3s 57ms/step - loss: 0.0071\n",
            "Epoch 26/300\n",
            "60/60 [==============================] - 3s 57ms/step - loss: 0.0069\n",
            "Epoch 27/300\n",
            "60/60 [==============================] - 3s 58ms/step - loss: 0.0073\n",
            "Epoch 28/300\n",
            "60/60 [==============================] - 4s 58ms/step - loss: 0.0068\n",
            "Epoch 29/300\n",
            "60/60 [==============================] - 3s 58ms/step - loss: 0.0065\n",
            "Epoch 30/300\n",
            "60/60 [==============================] - 3s 58ms/step - loss: 0.0066\n",
            "Epoch 31/300\n",
            "60/60 [==============================] - 3s 57ms/step - loss: 0.0068\n",
            "Epoch 32/300\n",
            "60/60 [==============================] - 3s 57ms/step - loss: 0.0068\n",
            "Epoch 33/300\n",
            "60/60 [==============================] - 3s 58ms/step - loss: 0.0068\n",
            "Epoch 34/300\n",
            "60/60 [==============================] - 3s 58ms/step - loss: 0.0066\n",
            "Epoch 35/300\n",
            "60/60 [==============================] - 4s 58ms/step - loss: 0.0066\n",
            "Epoch 36/300\n",
            "60/60 [==============================] - 3s 58ms/step - loss: 0.0068\n",
            "Epoch 37/300\n",
            "60/60 [==============================] - 4s 60ms/step - loss: 0.0061\n",
            "Epoch 38/300\n",
            "60/60 [==============================] - 4s 60ms/step - loss: 0.0065\n",
            "Epoch 39/300\n",
            "60/60 [==============================] - 4s 60ms/step - loss: 0.0062\n",
            "Epoch 40/300\n",
            "60/60 [==============================] - 4s 60ms/step - loss: 0.0064\n",
            "Epoch 41/300\n",
            "60/60 [==============================] - 4s 60ms/step - loss: 0.0063\n",
            "Epoch 42/300\n",
            "60/60 [==============================] - 4s 61ms/step - loss: 0.0063\n",
            "Epoch 43/300\n",
            "60/60 [==============================] - 4s 60ms/step - loss: 0.0063\n",
            "Epoch 44/300\n",
            "60/60 [==============================] - 4s 60ms/step - loss: 0.0064\n",
            "Epoch 45/300\n",
            "60/60 [==============================] - 4s 60ms/step - loss: 0.0064\n",
            "Epoch 46/300\n",
            "60/60 [==============================] - 4s 59ms/step - loss: 0.0062\n",
            "Epoch 47/300\n",
            "60/60 [==============================] - 4s 61ms/step - loss: 0.0067\n",
            "Epoch 48/300\n",
            "60/60 [==============================] - 4s 60ms/step - loss: 0.0065\n",
            "Epoch 49/300\n",
            "60/60 [==============================] - 4s 70ms/step - loss: 0.0061\n",
            "Epoch 50/300\n",
            "60/60 [==============================] - 4s 61ms/step - loss: 0.0067\n",
            "Epoch 51/300\n",
            "60/60 [==============================] - 4s 59ms/step - loss: 0.0059\n",
            "Epoch 52/300\n",
            "60/60 [==============================] - 4s 59ms/step - loss: 0.0063\n",
            "Epoch 53/300\n",
            "60/60 [==============================] - 5s 91ms/step - loss: 0.0063\n",
            "Epoch 54/300\n",
            "60/60 [==============================] - 4s 74ms/step - loss: 0.0058\n",
            "Epoch 55/300\n",
            "60/60 [==============================] - 4s 71ms/step - loss: 0.0060\n",
            "Epoch 56/300\n",
            "60/60 [==============================] - 4s 60ms/step - loss: 0.0061\n",
            "Epoch 57/300\n",
            "60/60 [==============================] - 4s 61ms/step - loss: 0.0056\n",
            "Epoch 58/300\n",
            "60/60 [==============================] - 4s 60ms/step - loss: 0.0060\n",
            "Epoch 59/300\n",
            "60/60 [==============================] - 4s 60ms/step - loss: 0.0059\n",
            "Epoch 60/300\n",
            "60/60 [==============================] - 4s 60ms/step - loss: 0.0057\n",
            "Epoch 61/300\n",
            "60/60 [==============================] - 4s 60ms/step - loss: 0.0058\n",
            "Epoch 62/300\n",
            "60/60 [==============================] - 4s 59ms/step - loss: 0.0057\n",
            "Epoch 63/300\n",
            "60/60 [==============================] - 4s 60ms/step - loss: 0.0059\n",
            "Epoch 64/300\n",
            "60/60 [==============================] - 4s 60ms/step - loss: 0.0059\n",
            "Epoch 65/300\n",
            "60/60 [==============================] - 4s 59ms/step - loss: 0.0057\n",
            "Epoch 66/300\n",
            "60/60 [==============================] - 4s 60ms/step - loss: 0.0056\n",
            "Epoch 67/300\n",
            "60/60 [==============================] - 4s 60ms/step - loss: 0.0056\n",
            "Epoch 68/300\n",
            "60/60 [==============================] - 4s 60ms/step - loss: 0.0054\n",
            "Epoch 69/300\n",
            "60/60 [==============================] - 4s 60ms/step - loss: 0.0056\n",
            "Epoch 70/300\n",
            "60/60 [==============================] - 4s 60ms/step - loss: 0.0055\n",
            "Epoch 71/300\n",
            "60/60 [==============================] - 4s 60ms/step - loss: 0.0054\n",
            "Epoch 72/300\n",
            "60/60 [==============================] - 4s 60ms/step - loss: 0.0056\n",
            "Epoch 73/300\n",
            "60/60 [==============================] - 4s 60ms/step - loss: 0.0056\n",
            "Epoch 74/300\n",
            "60/60 [==============================] - 4s 61ms/step - loss: 0.0055\n",
            "Epoch 75/300\n",
            "60/60 [==============================] - 4s 59ms/step - loss: 0.0054\n",
            "Epoch 76/300\n",
            "60/60 [==============================] - 5s 78ms/step - loss: 0.0056\n",
            "Epoch 77/300\n",
            "60/60 [==============================] - 4s 65ms/step - loss: 0.0053\n",
            "Epoch 78/300\n",
            "60/60 [==============================] - 4s 60ms/step - loss: 0.0052\n",
            "Epoch 79/300\n",
            "60/60 [==============================] - 4s 59ms/step - loss: 0.0050\n",
            "Epoch 80/300\n",
            "60/60 [==============================] - 4s 60ms/step - loss: 0.0055\n",
            "Epoch 81/300\n",
            "60/60 [==============================] - 4s 60ms/step - loss: 0.0051\n",
            "Epoch 82/300\n",
            "60/60 [==============================] - 4s 60ms/step - loss: 0.0051\n",
            "Epoch 83/300\n",
            "28/60 [=============>................] - ETA: 1s - loss: 0.0054"
          ]
        }
      ],
      "source": [
        "history = model.fit(Xtrain,Ytrain,epochs=300, verbose=1)"
      ]
    },
    {
      "cell_type": "code",
      "execution_count": null,
      "metadata": {
        "id": "9fDEAv_HrBr0"
      },
      "outputs": [],
      "source": [
        "plt.figure(figsize=(8,5))\n",
        "plt.plot(history.history['loss'])\n",
        "plt.xlabel(\"Epochs\")\n",
        "plt.ylabel(\"Loss\")\n",
        "plt.title(\"Model Accuracy\")"
      ]
    },
    {
      "cell_type": "code",
      "execution_count": null,
      "metadata": {
        "id": "aE-MOCLvrBr0"
      },
      "outputs": [],
      "source": [
        "import pickle"
      ]
    },
    {
      "cell_type": "code",
      "execution_count": null,
      "metadata": {
        "id": "kDU8als1r68z"
      },
      "outputs": [],
      "source": [
        "pickle.dump(model,open('lstm_model.pkl','wb'))"
      ]
    },
    {
      "cell_type": "code",
      "execution_count": null,
      "metadata": {
        "id": "N3P2si9BzQ4G"
      },
      "outputs": [],
      "source": [
        "model.save('lstm_mode_karan.hp5')"
      ]
    },
    {
      "cell_type": "code",
      "execution_count": null,
      "metadata": {
        "id": "1K5YjZAghv5b"
      },
      "outputs": [],
      "source": [
        "preds= model.predict(Xtest)\n",
        "preds = scaler.inverse_transform(preds)\n",
        "\n",
        "\n",
        "Ytest=np.asanyarray(Ytest)  \n",
        "Ytest=Ytest.reshape(-1,1) \n",
        "Ytest = scaler.inverse_transform(Ytest)\n",
        "\n",
        "\n",
        "Ytrain=np.asanyarray(Ytrain)  \n",
        "Ytrain=Ytrain.reshape(-1,1) \n",
        "Ytrain = scaler.inverse_transform(Ytrain)\n",
        "\n",
        "mean_squared_error(Ytest,preds)"
      ]
    },
    {
      "cell_type": "code",
      "execution_count": null,
      "metadata": {
        "id": "pRZBNhE05Bmp"
      },
      "outputs": [],
      "source": [
        "pre= model.predict(Xtrain)\n",
        "pre = scaler.inverse_transform(pre)"
      ]
    },
    {
      "cell_type": "code",
      "execution_count": null,
      "metadata": {
        "id": "yrwkcjip5WEt"
      },
      "outputs": [],
      "source": [
        "plt.figure(figsize=(20,9))\n",
        "plt.plot(Ytrain , 'blue', linewidth=5)\n",
        "plt.plot(pre,'r' , linewidth=4)\n",
        "plt.legend(('Train','Predicted'))\n",
        "plt.title(\"price Prediction\")\n",
        "plt.show()"
      ]
    },
    {
      "cell_type": "code",
      "execution_count": null,
      "metadata": {
        "id": "ZPd2zUDarBr1"
      },
      "outputs": [],
      "source": [
        "plt.figure(figsize=(20,9))\n",
        "plt.plot(Ytest , 'blue', linewidth=5)\n",
        "plt.plot(preds,'r' , linewidth=4)\n",
        "plt.legend(('Test','Predicted'))\n",
        "plt.title(\"price Prediction\")\n",
        "plt.show()"
      ]
    },
    {
      "cell_type": "code",
      "execution_count": null,
      "metadata": {
        "id": "IsEllxAxrBr1"
      },
      "outputs": [],
      "source": [
        "test = pd.DataFrame(Ytest,columns=['Actual'])\n",
        "pred = pd.DataFrame(preds,columns=['Predict'])"
      ]
    },
    {
      "cell_type": "code",
      "execution_count": null,
      "metadata": {
        "id": "oZf6QnfyrBr2"
      },
      "outputs": [],
      "source": [
        "results = pd.concat([test,pred],axis=1)"
      ]
    },
    {
      "cell_type": "code",
      "execution_count": null,
      "metadata": {
        "id": "ecmbJ38lrBr2"
      },
      "outputs": [],
      "source": [
        "results.head(20)"
      ]
    },
    {
      "cell_type": "code",
      "execution_count": null,
      "metadata": {
        "id": "KDexM3E6rBr2"
      },
      "outputs": [],
      "source": [
        "def insert_end(Xin,new_input):\n",
        "    #print ('Before: \\n', Xin , new_input )\n",
        "    for i in range(timestep-1):\n",
        "        Xin[:,i,:] = Xin[:,i+1,:]\n",
        "    Xin[:,timestep-1,:] = new_input\n",
        "    #print ('After :\\n', Xin)\n",
        "    return Xin\n"
      ]
    },
    {
      "cell_type": "code",
      "execution_count": null,
      "metadata": {
        "id": "rPZrhRrkrBr3"
      },
      "outputs": [],
      "source": [
        "df"
      ]
    },
    {
      "cell_type": "code",
      "execution_count": null,
      "metadata": {
        "collapsed": true,
        "id": "QZBChOlOrBr3"
      },
      "outputs": [],
      "source": [
        "\n",
        "# this section for unknown future\n",
        "#we are getting next 30 steps\n",
        "from datetime import timedelta\n",
        "future=30\n",
        "forcast = []\n",
        "Xin = Xtest[-1:,:,:]\n",
        "time=[]\n",
        "for i in range(future):\n",
        "    out = model.predict(Xin, batch_size=1)    \n",
        "    forcast.append(out[0,0]) \n",
        "    print(forcast)\n",
        "    Xin = insert_end(Xin,out[0,0]) \n",
        "    time.append(pd.to_datetime(df.index[-1])+timedelta(days=i+1))\n"
      ]
    },
    {
      "cell_type": "code",
      "execution_count": null,
      "metadata": {
        "id": "xruekVgOrBr4"
      },
      "outputs": [],
      "source": [
        "forcasted_output=np.asanyarray(forcast)   \n",
        "forcasted_output=forcasted_output.reshape(-1,1) \n",
        "forcasted_output = scaler.inverse_transform(forcasted_output)                  "
      ]
    },
    {
      "cell_type": "code",
      "execution_count": null,
      "metadata": {
        "id": "yVzjkK2frBr4"
      },
      "outputs": [],
      "source": [
        "forcasted_output = pd.DataFrame(forcasted_output)\n",
        "date = pd.DataFrame(time)\n",
        "df_result = pd.concat([date,forcasted_output],axis=1)\n",
        "df_result.columns = \"Date\",\"Forecasted\""
      ]
    },
    {
      "cell_type": "code",
      "execution_count": null,
      "metadata": {
        "id": "_NipD6I9rBr5"
      },
      "outputs": [],
      "source": [
        "df.columns"
      ]
    },
    {
      "cell_type": "code",
      "execution_count": null,
      "metadata": {
        "id": "JQMHg922rBr5"
      },
      "outputs": [],
      "source": [
        "df_result"
      ]
    },
    {
      "cell_type": "code",
      "execution_count": null,
      "metadata": {
        "id": "f9mmkzairBr5"
      },
      "outputs": [],
      "source": [
        "plt.figure(figsize=(16,8))\n",
        "plt.title('Gold price prediction')\n",
        "plt.xlabel('Date', fontsize=18)\n",
        "plt.ylabel('price' ,fontsize=18)\n",
        "plt.plot(df['price'][2000:])\n",
        "plt.plot(df_result.set_index('Date')[['Forecasted']],\"r--\")"
      ]
    },
    {
      "cell_type": "code",
      "execution_count": null,
      "metadata": {
        "id": "qkwwVBurzCap"
      },
      "outputs": [],
      "source": [
        "from sklearn.metrics import mean_squared_error\n",
        "from statsmodels.tools.eval_measures import rmse\n",
        "  "
      ]
    },
    {
      "cell_type": "code",
      "execution_count": null,
      "metadata": {
        "id": "aRomqdpz6Cq5"
      },
      "outputs": [],
      "source": [
        "# Calculate mean squared error\n",
        "mean_squared_error(Ytest, pred)"
      ]
    },
    {
      "cell_type": "code",
      "execution_count": null,
      "metadata": {
        "id": "QVVezG9n6Ju-"
      },
      "outputs": [],
      "source": [
        "# Calculate root mean squared error\n",
        "rmse(Ytest, pred)"
      ]
    },
    {
      "cell_type": "code",
      "execution_count": null,
      "metadata": {
        "id": "XTSb2RzEgWH-"
      },
      "outputs": [],
      "source": []
    },
    {
      "cell_type": "code",
      "execution_count": null,
      "metadata": {
        "id": "TdAtLpw-6Rld"
      },
      "outputs": [],
      "source": []
    }
  ],
  "metadata": {
    "colab": {
      "provenance": []
    },
    "kernelspec": {
      "display_name": "Python 3",
      "language": "python",
      "name": "python3"
    },
    "language_info": {
      "codemirror_mode": {
        "name": "ipython",
        "version": 3
      },
      "file_extension": ".py",
      "mimetype": "text/x-python",
      "name": "python",
      "nbconvert_exporter": "python",
      "pygments_lexer": "ipython3",
      "version": "3.6.4"
    }
  },
  "nbformat": 4,
  "nbformat_minor": 0
}